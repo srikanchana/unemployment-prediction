{
  "metadata": {
    "kernelspec": {
      "language": "python",
      "display_name": "Python 3",
      "name": "python3"
    },
    "language_info": {
      "pygments_lexer": "ipython3",
      "nbconvert_exporter": "python",
      "version": "3.6.4",
      "file_extension": ".py",
      "codemirror_mode": {
        "name": "ipython",
        "version": 3
      },
      "name": "python",
      "mimetype": "text/x-python"
    },
    "colab": {
      "provenance": [],
      "include_colab_link": true
    }
  },
  "nbformat_minor": 0,
  "nbformat": 4,
  "cells": [
    {
      "cell_type": "markdown",
      "metadata": {
        "id": "view-in-github",
        "colab_type": "text"
      },
      "source": [
        "<a href=\"https://colab.research.google.com/github/srikanchana/unemployment-prediction/blob/main/Copy_of_Unemployment_rate_prediction.ipynb\" target=\"_parent\"><img src=\"https://colab.research.google.com/assets/colab-badge.svg\" alt=\"Open In Colab\"/></a>"
      ]
    },
    {
      "source": [
        "\n",
        "import os\n",
        "import sys\n",
        "from tempfile import NamedTemporaryFile\n",
        "from urllib.request import urlopen\n",
        "from urllib.parse import unquote, urlparse\n",
        "from urllib.error import HTTPError\n",
        "from zipfile import ZipFile\n",
        "import tarfile\n",
        "import shutil\n",
        "\n",
        "CHUNK_SIZE = 40960\n",
        "DATA_SOURCE_MAPPING = 'countries-of-the-world-2023:https%3A%2F%2Fstorage.googleapis.com%2Fkaggle-data-sets%2F3495122%2F6101670%2Fbundle%2Farchive.zip%3FX-Goog-Algorithm%3DGOOG4-RSA-SHA256%26X-Goog-Credential%3Dgcp-kaggle-com%2540kaggle-161607.iam.gserviceaccount.com%252F20240730%252Fauto%252Fstorage%252Fgoog4_request%26X-Goog-Date%3D20240730T095136Z%26X-Goog-Expires%3D259200%26X-Goog-SignedHeaders%3Dhost%26X-Goog-Signature%3Daf5cc7d7a890667ad54272dfa5d6455db6237d274289e5b2cf99be1b5448a205d9bf32ea5884fadbc4e70c8e8a5fc88d3aa278ff519faab498bc898327ca45aab8923fbab5a2bf206ebc3d49f6ca521ac42e7b7200feb6d9a3338f93dad3019a6c92653284531191af5b70bc7dc0c3b0667e150975dccf263a926e8f007e012f2d5819d580f56415823e80098f48f2bb0fcd87afc36cd88bb1f58df4b767799ab6257c6ecf3825401c674e641956b30330433fa89c353dcbdfaf7518834c990a144ef3271e8318c3af592bf821aef1d577ce9040d7663626f2a0c6d2b42563161d8f9e9250e5c639361926de7b40ee50c236070580c937b70df4ec21705e31f5'\n",
        "\n",
        "KAGGLE_INPUT_PATH='/kaggle/input'\n",
        "KAGGLE_WORKING_PATH='/kaggle/working'\n",
        "KAGGLE_SYMLINK='kaggle'\n",
        "\n",
        "!umount /kaggle/input/ 2> /dev/null\n",
        "shutil.rmtree('/kaggle/input', ignore_errors=True)\n",
        "os.makedirs(KAGGLE_INPUT_PATH, 0o777, exist_ok=True)\n",
        "os.makedirs(KAGGLE_WORKING_PATH, 0o777, exist_ok=True)\n",
        "\n",
        "try:\n",
        "  os.symlink(KAGGLE_INPUT_PATH, os.path.join(\"..\", 'input'), target_is_directory=True)\n",
        "except FileExistsError:\n",
        "  pass\n",
        "try:\n",
        "  os.symlink(KAGGLE_WORKING_PATH, os.path.join(\"..\", 'working'), target_is_directory=True)\n",
        "except FileExistsError:\n",
        "  pass\n",
        "\n",
        "for data_source_mapping in DATA_SOURCE_MAPPING.split(','):\n",
        "    directory, download_url_encoded = data_source_mapping.split(':')\n",
        "    download_url = unquote(download_url_encoded)\n",
        "    filename = urlparse(download_url).path\n",
        "    destination_path = os.path.join(KAGGLE_INPUT_PATH, directory)\n",
        "    try:\n",
        "        with urlopen(download_url) as fileres, NamedTemporaryFile() as tfile:\n",
        "            total_length = fileres.headers['content-length']\n",
        "            print(f'Downloading {directory}, {total_length} bytes compressed')\n",
        "            dl = 0\n",
        "            data = fileres.read(CHUNK_SIZE)\n",
        "            while len(data) > 0:\n",
        "                dl += len(data)\n",
        "                tfile.write(data)\n",
        "                done = int(50 * dl / int(total_length))\n",
        "                sys.stdout.write(f\"\\r[{'=' * done}{' ' * (50-done)}] {dl} bytes downloaded\")\n",
        "                sys.stdout.flush()\n",
        "                data = fileres.read(CHUNK_SIZE)\n",
        "            if filename.endswith('.zip'):\n",
        "              with ZipFile(tfile) as zfile:\n",
        "                zfile.extractall(destination_path)\n",
        "            else:\n",
        "              with tarfile.open(tfile.name) as tarfile:\n",
        "                tarfile.extractall(destination_path)\n",
        "            print(f'\\nDownloaded and uncompressed: {directory}')\n",
        "    except HTTPError as e:\n",
        "        print(f'Failed to load (likely expired) {download_url} to path {destination_path}')\n",
        "        continue\n",
        "    except OSError as e:\n",
        "        print(f'Failed to load {download_url} to path {destination_path}')\n",
        "        continue\n",
        "\n",
        "print('Data source import complete.')\n"
      ],
      "metadata": {
        "id": "xFv-0IVoCfwu"
      },
      "cell_type": "code",
      "outputs": [],
      "execution_count": null
    },
    {
      "cell_type": "code",
      "source": [
        "# This Python 3 environment comes with many helpful analytics libraries installed\n",
        "# It is defined by the kaggle/python Docker image: https://github.com/kaggle/docker-python\n",
        "# For example, here's several helpful packages to load\n",
        "\n",
        "import numpy as np # linear algebra\n",
        "import pandas as pd # data processing, CSV file I/O (e.g. pd.read_csv)\n",
        "\n",
        "# Input data files are available in the read-only \"../input/\" directory\n",
        "# For example, running this (by clicking run or pressing Shift+Enter) will list all files under the input directory\n",
        "\n",
        "import os\n",
        "for dirname, _, filenames in os.walk('/kaggle/input'):\n",
        "    for filename in filenames:\n",
        "        print(os.path.join(dirname, filename))\n",
        "\n",
        "# You can write up to 20GB to the current directory (/kaggle/working/) that gets preserved as output when you create a version using \"Save & Run All\"\n",
        "# You can also write temporary files to /kaggle/temp/, but they won't be saved outside of the current session"
      ],
      "metadata": {
        "_uuid": "8f2839f25d086af736a60e9eeb907d3b93b6e0e5",
        "_cell_guid": "b1076dfc-b9ad-4769-8c92-a6c4dae69d19",
        "execution": {
          "iopub.status.busy": "2023-07-25T09:38:36.15442Z",
          "iopub.execute_input": "2023-07-25T09:38:36.154845Z",
          "iopub.status.idle": "2023-07-25T09:38:36.164685Z",
          "shell.execute_reply.started": "2023-07-25T09:38:36.15481Z",
          "shell.execute_reply": "2023-07-25T09:38:36.163492Z"
        },
        "trusted": true,
        "id": "o9e6Q9JFCfww"
      },
      "execution_count": null,
      "outputs": []
    },
    {
      "cell_type": "code",
      "source": [
        "import matplotlib.pyplot as plt\n",
        "import seaborn as sns\n",
        "import plotly.express as px\n",
        "import plotly.graph_objects as go\n",
        "import geopandas as gpd\n",
        "import re\n",
        "%matplotlib inline\n",
        "\n",
        "import warnings\n",
        "warnings.filterwarnings('ignore')\n",
        "\n",
        "\n",
        "from sklearn import metrics, preprocessing\n",
        "from sklearn import linear_model\n",
        "from sklearn import tree\n",
        "from sklearn import ensemble\n",
        "from plotly.subplots import make_subplots\n",
        "from sklearn.preprocessing  import LabelEncoder\n",
        "from sklearn.model_selection import train_test_split\n",
        "from sklearn.feature_selection import SelectKBest, f_classif\n",
        "from sklearn.model_selection import GridSearchCV, cross_val_score\n",
        "\n"
      ],
      "metadata": {
        "execution": {
          "iopub.status.busy": "2023-07-25T09:38:36.166305Z",
          "iopub.execute_input": "2023-07-25T09:38:36.166616Z",
          "iopub.status.idle": "2023-07-25T09:38:36.180628Z",
          "shell.execute_reply.started": "2023-07-25T09:38:36.16659Z",
          "shell.execute_reply": "2023-07-25T09:38:36.179415Z"
        },
        "trusted": true,
        "id": "16g_FnMWCfww"
      },
      "execution_count": null,
      "outputs": []
    },
    {
      "cell_type": "markdown",
      "source": [
        "Based on the dataset, we will test several different models for predicting the unemployment rate."
      ],
      "metadata": {
        "id": "1jYs99EpCfwx"
      }
    },
    {
      "cell_type": "code",
      "source": [
        "data = pd.read_csv('/kaggle/input/countries-of-the-world-2023/world-data-2023.csv')\n",
        "data.head()"
      ],
      "metadata": {
        "execution": {
          "iopub.status.busy": "2023-07-25T09:38:36.182157Z",
          "iopub.execute_input": "2023-07-25T09:38:36.183172Z",
          "iopub.status.idle": "2023-07-25T09:38:36.221831Z",
          "shell.execute_reply.started": "2023-07-25T09:38:36.183132Z",
          "shell.execute_reply": "2023-07-25T09:38:36.220705Z"
        },
        "trusted": true,
        "id": "1INn4XTKCfwx"
      },
      "execution_count": null,
      "outputs": []
    },
    {
      "cell_type": "markdown",
      "source": [
        "# 1. Primary data analysis"
      ],
      "metadata": {
        "id": "3mlR8BK4Cfwy"
      }
    },
    {
      "cell_type": "markdown",
      "source": [
        "let's see the dimension of the data and data types"
      ],
      "metadata": {
        "id": "jCFBhpZjCfwy"
      }
    },
    {
      "cell_type": "code",
      "source": [
        "data.shape"
      ],
      "metadata": {
        "execution": {
          "iopub.status.busy": "2023-07-25T09:38:36.224351Z",
          "iopub.execute_input": "2023-07-25T09:38:36.224703Z",
          "iopub.status.idle": "2023-07-25T09:38:36.231485Z",
          "shell.execute_reply.started": "2023-07-25T09:38:36.224673Z",
          "shell.execute_reply": "2023-07-25T09:38:36.230175Z"
        },
        "trusted": true,
        "id": "BR4y6bQrCfwy"
      },
      "execution_count": null,
      "outputs": []
    },
    {
      "cell_type": "code",
      "source": [
        "data.info()"
      ],
      "metadata": {
        "execution": {
          "iopub.status.busy": "2023-07-25T09:38:36.232957Z",
          "iopub.execute_input": "2023-07-25T09:38:36.23343Z",
          "iopub.status.idle": "2023-07-25T09:38:36.256471Z",
          "shell.execute_reply.started": "2023-07-25T09:38:36.233389Z",
          "shell.execute_reply": "2023-07-25T09:38:36.255425Z"
        },
        "trusted": true,
        "id": "xC-2uZ7PCfwy"
      },
      "execution_count": null,
      "outputs": []
    },
    {
      "cell_type": "markdown",
      "source": [
        "## 1.1 Convert data types in features"
      ],
      "metadata": {
        "id": "NALtIBJiCfwy"
      }
    },
    {
      "cell_type": "markdown",
      "source": [
        "First, let's single out among the features of the object type those that are measured in percentages. Remove the percent sign and replace the type with float."
      ],
      "metadata": {
        "id": "bhGlRzL7Cfwz"
      }
    },
    {
      "cell_type": "code",
      "source": [
        "# List of features with object data type\n",
        "object_list = [x for x in data.columns if data[x].dtype == 'object']\n",
        "\n",
        "# List of features in which the '%' sign is indicated\n",
        "object_list_percent = [x for x in object_list if '%' in x]+(['Out of pocket health expenditure', 'Total tax rate', 'Unemployment rate'])\n",
        "print(object_list_percent)\n",
        "\n",
        "# Remove the '%' sign and change the data type to float\n",
        "for feature in data.columns:\n",
        "    if feature in object_list_percent:\n",
        "        data[feature] = data[feature].str.replace('%', '')\n",
        "        data[feature] = data[feature].str.strip()\n",
        "        data[feature] = data[feature].astype('float64')"
      ],
      "metadata": {
        "execution": {
          "iopub.status.busy": "2023-07-25T09:38:36.257732Z",
          "iopub.execute_input": "2023-07-25T09:38:36.258732Z",
          "iopub.status.idle": "2023-07-25T09:38:36.284553Z",
          "shell.execute_reply.started": "2023-07-25T09:38:36.258694Z",
          "shell.execute_reply": "2023-07-25T09:38:36.283689Z"
        },
        "trusted": true,
        "id": "Rf8gvTQlCfwz"
      },
      "execution_count": null,
      "outputs": []
    },
    {
      "cell_type": "code",
      "source": [
        "# List of features with object data type\n",
        "object_list = [x for x in data.columns if data[x].dtype == 'object']\n",
        "object_list"
      ],
      "metadata": {
        "execution": {
          "iopub.status.busy": "2023-07-25T09:38:36.285734Z",
          "iopub.execute_input": "2023-07-25T09:38:36.286592Z",
          "iopub.status.idle": "2023-07-25T09:38:36.295691Z",
          "shell.execute_reply.started": "2023-07-25T09:38:36.286556Z",
          "shell.execute_reply": "2023-07-25T09:38:36.294584Z"
        },
        "trusted": true,
        "id": "DoGeeTGiCfwz"
      },
      "execution_count": null,
      "outputs": []
    },
    {
      "cell_type": "code",
      "source": [
        "# List of features to be transformed\n",
        "columns_list = ['Density\\n(P/Km2)', 'Land Area(Km2)', 'Armed Forces size', 'Co2-Emissions', 'CPI',\n",
        "           'Gasoline Price', 'GDP', 'Minimum wage', 'Population', 'Urban_population']\n",
        "\n",
        "# Remove ',' and '$'\n",
        "for feature in data.columns:\n",
        "    if feature in columns_list:\n",
        "        data[feature] = data[feature].str.replace(',', '')\n",
        "        data[feature] = data[feature].str.replace('$', '')\n",
        "\n",
        "# Replacing data types with int and float\n",
        "float_list = ['CPI', 'Gasoline Price', 'Minimum wage']\n",
        "int_list = ['Density\\n(P/Km2)', 'Land Area(Km2)', 'Armed Forces size', 'Co2-Emissions', 'GDP', 'Population', 'Urban_population']\n",
        "for feature in data.columns:\n",
        "    if feature in float_list:\n",
        "        data[feature] = data[feature].astype('float64')\n",
        "    elif feature in int_list:\n",
        "        data[feature] = data[feature].astype('Int64')"
      ],
      "metadata": {
        "execution": {
          "iopub.status.busy": "2023-07-25T09:38:36.297409Z",
          "iopub.execute_input": "2023-07-25T09:38:36.29785Z",
          "iopub.status.idle": "2023-07-25T09:38:36.327346Z",
          "shell.execute_reply.started": "2023-07-25T09:38:36.29781Z",
          "shell.execute_reply": "2023-07-25T09:38:36.325992Z"
        },
        "trusted": true,
        "id": "kr2jlp4QCfwz"
      },
      "execution_count": null,
      "outputs": []
    },
    {
      "cell_type": "code",
      "source": [
        "data.info()"
      ],
      "metadata": {
        "execution": {
          "iopub.status.busy": "2023-07-25T09:38:36.32889Z",
          "iopub.execute_input": "2023-07-25T09:38:36.329347Z",
          "iopub.status.idle": "2023-07-25T09:38:36.348656Z",
          "shell.execute_reply.started": "2023-07-25T09:38:36.329306Z",
          "shell.execute_reply": "2023-07-25T09:38:36.347781Z"
        },
        "trusted": true,
        "id": "57aI2Tt2Cfwz"
      },
      "execution_count": null,
      "outputs": []
    },
    {
      "cell_type": "markdown",
      "source": [
        "## 1.2 Handling gaps in data"
      ],
      "metadata": {
        "id": "1M4qHH37Cfwz"
      }
    },
    {
      "cell_type": "markdown",
      "source": [
        "Let's say we set a threshold of missing data of 30%, exceeding which the feature becomes uninformative and should be deleted."
      ],
      "metadata": {
        "id": "_R-VNpgpCfwz"
      }
    },
    {
      "cell_type": "code",
      "source": [
        "# Percentage of missing data in features\n",
        "cols_null_percent = data.isnull().mean() * 100\n",
        "cols_with_null = cols_null_percent[cols_null_percent > 0].sort_values(ascending=False)\n",
        "cols = list(cols_with_null.index)\n",
        "display(cols_with_null)"
      ],
      "metadata": {
        "execution": {
          "iopub.status.busy": "2023-07-25T09:38:36.352622Z",
          "iopub.execute_input": "2023-07-25T09:38:36.353227Z",
          "iopub.status.idle": "2023-07-25T09:38:36.370851Z",
          "shell.execute_reply.started": "2023-07-25T09:38:36.35319Z",
          "shell.execute_reply": "2023-07-25T09:38:36.369616Z"
        },
        "trusted": true,
        "id": "tXcJZWqDCfwz"
      },
      "execution_count": null,
      "outputs": []
    },
    {
      "cell_type": "code",
      "source": [
        "# Heatmap of missing values\n",
        "colors = ['blue', 'yellow']\n",
        "fig = plt.figure(figsize=(10, 4))\n",
        "cols = cols_with_null.index\n",
        "ax = sns.heatmap(\n",
        "    data[cols].isnull(),\n",
        "    cmap = sns.color_palette(colors),\n",
        ")\n",
        "ax.set_title('Heatmap of missing values');"
      ],
      "metadata": {
        "execution": {
          "iopub.status.busy": "2023-07-25T09:38:36.372413Z",
          "iopub.execute_input": "2023-07-25T09:38:36.373064Z",
          "iopub.status.idle": "2023-07-25T09:38:37.179857Z",
          "shell.execute_reply.started": "2023-07-25T09:38:36.373018Z",
          "shell.execute_reply": "2023-07-25T09:38:37.178785Z"
        },
        "trusted": true,
        "id": "cNc9MXmNCfwz"
      },
      "execution_count": null,
      "outputs": []
    },
    {
      "cell_type": "code",
      "source": [
        "data[cols].info()"
      ],
      "metadata": {
        "execution": {
          "iopub.status.busy": "2023-07-25T09:38:37.181306Z",
          "iopub.execute_input": "2023-07-25T09:38:37.182531Z",
          "iopub.status.idle": "2023-07-25T09:38:37.199804Z",
          "shell.execute_reply.started": "2023-07-25T09:38:37.182489Z",
          "shell.execute_reply": "2023-07-25T09:38:37.198363Z"
        },
        "trusted": true,
        "id": "ZPRgH5ZxCfwz"
      },
      "execution_count": null,
      "outputs": []
    },
    {
      "cell_type": "code",
      "source": [
        "cat_list = [x for x in data.columns if data[x].dtype == 'object']\n",
        "cat_list"
      ],
      "metadata": {
        "execution": {
          "iopub.status.busy": "2023-07-25T09:38:37.20126Z",
          "iopub.execute_input": "2023-07-25T09:38:37.202026Z",
          "iopub.status.idle": "2023-07-25T09:38:37.214308Z",
          "shell.execute_reply.started": "2023-07-25T09:38:37.201991Z",
          "shell.execute_reply": "2023-07-25T09:38:37.213107Z"
        },
        "trusted": true,
        "id": "4do4tsXFCfwz"
      },
      "execution_count": null,
      "outputs": []
    },
    {
      "cell_type": "code",
      "source": [
        "# Replace missing values with 'unknown'\n",
        "data[cat_list] = data[cat_list].fillna('unknown')\n",
        "# Replace missing values with 0\n",
        "data = data.fillna(0)\n",
        "data.isnull().sum()"
      ],
      "metadata": {
        "execution": {
          "iopub.status.busy": "2023-07-25T09:38:37.215787Z",
          "iopub.execute_input": "2023-07-25T09:38:37.216947Z",
          "iopub.status.idle": "2023-07-25T09:38:37.240106Z",
          "shell.execute_reply.started": "2023-07-25T09:38:37.216901Z",
          "shell.execute_reply": "2023-07-25T09:38:37.238476Z"
        },
        "trusted": true,
        "id": "ibmnJT36Cfwz"
      },
      "execution_count": null,
      "outputs": []
    },
    {
      "cell_type": "markdown",
      "source": [
        "# 2. Exploratory data analysis"
      ],
      "metadata": {
        "id": "Uv49z8RWCfwz"
      }
    },
    {
      "cell_type": "markdown",
      "source": [
        "## 2.1. Let's analyze the target feature 'Unemployment rate'"
      ],
      "metadata": {
        "id": "DWq-morwCfwz"
      }
    },
    {
      "cell_type": "code",
      "source": [
        "fig = px.histogram(data,\n",
        "                  x='Unemployment rate',\n",
        "                  nbins=20,\n",
        "                  text_auto=True,\n",
        "                  marginal='box',\n",
        "                  title='Histogram of the distribution of the feature \"Unemployment rate\"',\n",
        "                  )\n",
        "\n",
        "fig.show(\"notebook\")"
      ],
      "metadata": {
        "execution": {
          "iopub.status.busy": "2023-07-25T09:38:37.242055Z",
          "iopub.execute_input": "2023-07-25T09:38:37.242705Z",
          "iopub.status.idle": "2023-07-25T09:38:37.375898Z",
          "shell.execute_reply.started": "2023-07-25T09:38:37.242656Z",
          "shell.execute_reply": "2023-07-25T09:38:37.37395Z"
        },
        "trusted": true,
        "id": "WPhHm05KCfwz"
      },
      "execution_count": null,
      "outputs": []
    },
    {
      "cell_type": "markdown",
      "source": [
        "## 2.2. Let's look at the distribution of numerical variables"
      ],
      "metadata": {
        "id": "Vk2RvgetCfw0"
      }
    },
    {
      "cell_type": "code",
      "source": [
        "# List of numerical variables\n",
        "num_list = [x for x in data.columns if data[x].dtype == 'float64' or data[x].dtype == 'Int64']\n",
        "n = len(num_list)\n",
        "print(n)\n",
        "\n",
        "fig, axes = plt.subplots(10, 3, figsize=(20, 20), facecolor='gray')\n",
        "plt.subplots_adjust(hspace=1.0, wspace=0.5)\n",
        "plt.suptitle('Histograms of numerical variables',\n",
        "             fontsize=22,\n",
        "             fontweight='bold')\n",
        "for col, ax in zip(num_list, axes.ravel()):\n",
        "    histplot = sns.histplot(data,\n",
        "                            x=col,\n",
        "                            color='green',\n",
        "                            ax=ax)\n",
        "    histplot.set_title(col.upper())\n",
        "    histplot.set_xlabel('')\n",
        "    ax.grid()"
      ],
      "metadata": {
        "execution": {
          "iopub.status.busy": "2023-07-25T09:38:37.377279Z",
          "iopub.execute_input": "2023-07-25T09:38:37.377633Z",
          "iopub.status.idle": "2023-07-25T09:38:48.196166Z",
          "shell.execute_reply.started": "2023-07-25T09:38:37.377603Z",
          "shell.execute_reply": "2023-07-25T09:38:48.1947Z"
        },
        "trusted": true,
        "id": "bVlhPhPXCfw0"
      },
      "execution_count": null,
      "outputs": []
    },
    {
      "cell_type": "code",
      "source": [
        "fig, axes = plt.subplots(10, 3, figsize=(20, 20), facecolor='gray')\n",
        "plt.subplots_adjust(hspace=1.0, wspace=0.5)\n",
        "plt.suptitle('Boxplots of numerical variables',\n",
        "             fontsize=22,\n",
        "             fontweight='bold')\n",
        "for col, ax in zip(num_list, axes.ravel()):\n",
        "    histplot = sns.boxplot(data,\n",
        "                            x=col,\n",
        "                            color='blue',\n",
        "                            ax=ax)\n",
        "    histplot.set_title(col.upper())\n",
        "    histplot.set_xlabel('')\n",
        "    ax.grid()"
      ],
      "metadata": {
        "execution": {
          "iopub.status.busy": "2023-07-25T09:38:48.197792Z",
          "iopub.execute_input": "2023-07-25T09:38:48.198996Z",
          "iopub.status.idle": "2023-07-25T09:38:52.514726Z",
          "shell.execute_reply.started": "2023-07-25T09:38:48.198955Z",
          "shell.execute_reply": "2023-07-25T09:38:52.513498Z"
        },
        "trusted": true,
        "id": "kFjKwqOoCfw0"
      },
      "execution_count": null,
      "outputs": []
    },
    {
      "cell_type": "markdown",
      "source": [
        "## 2.3. Let's look at the distribution of categorical variables"
      ],
      "metadata": {
        "id": "xP77p4VOCfw0"
      }
    },
    {
      "cell_type": "code",
      "source": [
        "cat_list = [x for x in data.columns if data[x].dtype == 'object']\n",
        "cat_list"
      ],
      "metadata": {
        "execution": {
          "iopub.status.busy": "2023-07-25T09:38:52.516038Z",
          "iopub.execute_input": "2023-07-25T09:38:52.516384Z",
          "iopub.status.idle": "2023-07-25T09:38:52.525253Z",
          "shell.execute_reply.started": "2023-07-25T09:38:52.516356Z",
          "shell.execute_reply": "2023-07-25T09:38:52.523809Z"
        },
        "trusted": true,
        "id": "D0RUN9fXCfw0"
      },
      "execution_count": null,
      "outputs": []
    },
    {
      "cell_type": "markdown",
      "source": [
        "### Countries"
      ],
      "metadata": {
        "id": "foaL7gY7Cfw0"
      }
    },
    {
      "cell_type": "code",
      "source": [
        "# Top 20 countries with the highest unemployment rate\n",
        "country_unemployment_max = data.groupby(by='Country', as_index=False)['Unemployment rate'].value_counts().nlargest(20, 'Unemployment rate')\n",
        "# Top 200 countries with the lowest unemployment rate\n",
        "country_unemployment_min = data.groupby(by='Country', as_index=False)['Unemployment rate'].value_counts().nsmallest(20,'Unemployment rate')\n",
        "\n",
        "display('Top 20 countries with the highest unemployment rate', country_unemployment_max, )\n",
        "print('-'*60)\n",
        "display('Top 20 countries with the lowest unemployment rate', country_unemployment_min)\n"
      ],
      "metadata": {
        "execution": {
          "iopub.status.busy": "2023-07-25T09:38:52.526695Z",
          "iopub.execute_input": "2023-07-25T09:38:52.527045Z",
          "iopub.status.idle": "2023-07-25T09:38:52.585679Z",
          "shell.execute_reply.started": "2023-07-25T09:38:52.527017Z",
          "shell.execute_reply": "2023-07-25T09:38:52.583926Z"
        },
        "trusted": true,
        "id": "gZx_hCXPCfw0"
      },
      "execution_count": null,
      "outputs": []
    },
    {
      "cell_type": "code",
      "source": [
        "fig=px.bar(\n",
        "    country_unemployment_max,\n",
        "    y='Country',\n",
        "    x='Unemployment rate',\n",
        "    text_auto=True,\n",
        "    color='Country',\n",
        "    orientation='h',\n",
        "    title='Top 20 countries with the highest unemployment rate',\n",
        "    height=800,\n",
        "    width=1200)\n",
        "\n",
        "fig.show(\"notebook\")"
      ],
      "metadata": {
        "execution": {
          "iopub.status.busy": "2023-07-25T09:38:52.587797Z",
          "iopub.execute_input": "2023-07-25T09:38:52.58841Z",
          "iopub.status.idle": "2023-07-25T09:38:52.80595Z",
          "shell.execute_reply.started": "2023-07-25T09:38:52.588356Z",
          "shell.execute_reply": "2023-07-25T09:38:52.80483Z"
        },
        "trusted": true,
        "id": "N1iPZhsiCfw0"
      },
      "execution_count": null,
      "outputs": []
    },
    {
      "cell_type": "markdown",
      "source": [
        "### Largest city"
      ],
      "metadata": {
        "execution": {
          "iopub.status.busy": "2023-07-24T16:46:49.838989Z",
          "iopub.execute_input": "2023-07-24T16:46:49.839377Z",
          "iopub.status.idle": "2023-07-24T16:46:49.844297Z",
          "shell.execute_reply.started": "2023-07-24T16:46:49.839344Z",
          "shell.execute_reply": "2023-07-24T16:46:49.84323Z"
        },
        "id": "WbaQucoNCfw0"
      }
    },
    {
      "cell_type": "code",
      "source": [
        "largest_city = data.groupby(by='Largest city', as_index=False)['Unemployment rate'].value_counts().nlargest(10, 'Unemployment rate')\n",
        "\n",
        "fig = px.bar(largest_city,\n",
        "            y='Largest city',\n",
        "            x='Unemployment rate',\n",
        "            orientation='h',\n",
        "            color='Largest city',\n",
        "            text_auto=True)\n",
        "\n",
        "fig.show(\"notebook\")"
      ],
      "metadata": {
        "execution": {
          "iopub.status.busy": "2023-07-25T09:38:52.807476Z",
          "iopub.execute_input": "2023-07-25T09:38:52.807895Z",
          "iopub.status.idle": "2023-07-25T09:38:52.989569Z",
          "shell.execute_reply.started": "2023-07-25T09:38:52.807864Z",
          "shell.execute_reply": "2023-07-25T09:38:52.988409Z"
        },
        "trusted": true,
        "id": "CnAfmhnjCfw0"
      },
      "execution_count": null,
      "outputs": []
    },
    {
      "cell_type": "markdown",
      "source": [
        "### The dependence of the unemployment rate on the number of urban population"
      ],
      "metadata": {
        "id": "72Z7-aJaCfw0"
      }
    },
    {
      "cell_type": "code",
      "source": [
        "fig = px.scatter(\n",
        "    data,\n",
        "    y='Urban_population',\n",
        "    x='Unemployment rate',\n",
        "    color='Birth Rate'\n",
        ")\n",
        "\n",
        "fig.show(\"notebook\")"
      ],
      "metadata": {
        "execution": {
          "iopub.status.busy": "2023-07-25T09:38:52.991104Z",
          "iopub.execute_input": "2023-07-25T09:38:52.991459Z",
          "iopub.status.idle": "2023-07-25T09:38:53.115027Z",
          "shell.execute_reply.started": "2023-07-25T09:38:52.99143Z",
          "shell.execute_reply": "2023-07-25T09:38:53.114118Z"
        },
        "trusted": true,
        "id": "KQX1lE2yCfw0"
      },
      "execution_count": null,
      "outputs": []
    },
    {
      "cell_type": "markdown",
      "source": [
        "# 3. Data preparation"
      ],
      "metadata": {
        "id": "B0_zpiWGCfw0"
      }
    },
    {
      "cell_type": "markdown",
      "source": [
        "## 3.1. Feature coding"
      ],
      "metadata": {
        "execution": {
          "iopub.status.busy": "2023-07-24T17:27:40.700247Z",
          "iopub.execute_input": "2023-07-24T17:27:40.700733Z",
          "iopub.status.idle": "2023-07-24T17:27:40.71614Z",
          "shell.execute_reply.started": "2023-07-24T17:27:40.700698Z",
          "shell.execute_reply": "2023-07-24T17:27:40.715247Z"
        },
        "id": "JXYU_EbMCfw0"
      }
    },
    {
      "cell_type": "code",
      "source": [
        "cat_list"
      ],
      "metadata": {
        "execution": {
          "iopub.status.busy": "2023-07-25T09:38:53.116353Z",
          "iopub.execute_input": "2023-07-25T09:38:53.116889Z",
          "iopub.status.idle": "2023-07-25T09:38:53.124465Z",
          "shell.execute_reply.started": "2023-07-25T09:38:53.116854Z",
          "shell.execute_reply": "2023-07-25T09:38:53.123314Z"
        },
        "trusted": true,
        "id": "en7ISG7TCfw3"
      },
      "execution_count": null,
      "outputs": []
    },
    {
      "cell_type": "markdown",
      "source": [
        "Label Encoder is a method that is used to convert categorical columns to numeric so that they can fit machine learning models that only accept numeric data. It assigns each category in the feature a value between 0 and $n$, where $n$ is the number of categories."
      ],
      "metadata": {
        "id": "Ap7vvzBoCfw3"
      }
    },
    {
      "cell_type": "code",
      "source": [
        "for feature in cat_list:\n",
        "    encoder = LabelEncoder()\n",
        "    data[feature] = encoder.fit_transform(data[feature])"
      ],
      "metadata": {
        "execution": {
          "iopub.status.busy": "2023-07-25T09:38:53.126292Z",
          "iopub.execute_input": "2023-07-25T09:38:53.126725Z",
          "iopub.status.idle": "2023-07-25T09:38:53.146217Z",
          "shell.execute_reply.started": "2023-07-25T09:38:53.126683Z",
          "shell.execute_reply": "2023-07-25T09:38:53.144613Z"
        },
        "trusted": true,
        "id": "nLwnWnoLCfw3"
      },
      "execution_count": null,
      "outputs": []
    },
    {
      "cell_type": "code",
      "source": [
        "data.head()"
      ],
      "metadata": {
        "execution": {
          "iopub.status.busy": "2023-07-25T09:38:53.14775Z",
          "iopub.execute_input": "2023-07-25T09:38:53.148197Z",
          "iopub.status.idle": "2023-07-25T09:38:53.186035Z",
          "shell.execute_reply.started": "2023-07-25T09:38:53.148149Z",
          "shell.execute_reply": "2023-07-25T09:38:53.185058Z"
        },
        "trusted": true,
        "id": "yt8J8kkkCfw3"
      },
      "execution_count": null,
      "outputs": []
    },
    {
      "cell_type": "markdown",
      "source": [
        "## 3.2. Feature correlation analysis"
      ],
      "metadata": {
        "id": "f8bV87r0Cfw3"
      }
    },
    {
      "cell_type": "code",
      "source": [
        "# Let's build a feature correlation matrix\n",
        "plt.figure(figsize=(32, 28), facecolor='gray')\n",
        "sns.heatmap(data.corr(),\n",
        "            annot=True,\n",
        "            fmt='.1g',\n",
        "            cmap='coolwarm',\n",
        "            linecolor='blue',\n",
        "            linewidths=1)\n",
        "plt.title('Feature correlation matrix',\n",
        "          fontsize=18,\n",
        "          fontweight='bold');"
      ],
      "metadata": {
        "execution": {
          "iopub.status.busy": "2023-07-25T09:38:53.187358Z",
          "iopub.execute_input": "2023-07-25T09:38:53.187949Z",
          "iopub.status.idle": "2023-07-25T09:38:58.809124Z",
          "shell.execute_reply.started": "2023-07-25T09:38:53.187913Z",
          "shell.execute_reply": "2023-07-25T09:38:58.808182Z"
        },
        "trusted": true,
        "id": "LushtO_aCfw3"
      },
      "execution_count": null,
      "outputs": []
    },
    {
      "cell_type": "markdown",
      "source": [
        "In order to avoid the problems associated with multicolleniality. In pairs of features, where the correlation coefficient is greater than or equal to 0.9 or less than or equal to -0.9, delete one of the features."
      ],
      "metadata": {
        "id": "lIivPQFHCfw3"
      }
    },
    {
      "cell_type": "code",
      "source": [
        "multicolleniar = ['Birth Rate', 'Armed Forces size', 'Co2-Emissions', 'CPI', 'Infant mortality', 'Urban_population']\n",
        "data = data.drop(multicolleniar, axis=1)"
      ],
      "metadata": {
        "execution": {
          "iopub.status.busy": "2023-07-25T09:38:58.810403Z",
          "iopub.execute_input": "2023-07-25T09:38:58.811221Z",
          "iopub.status.idle": "2023-07-25T09:38:58.817469Z",
          "shell.execute_reply.started": "2023-07-25T09:38:58.811187Z",
          "shell.execute_reply": "2023-07-25T09:38:58.816296Z"
        },
        "trusted": true,
        "id": "p9ZTJzOdCfw3"
      },
      "execution_count": null,
      "outputs": []
    },
    {
      "cell_type": "markdown",
      "source": [
        "# 4. Modeling"
      ],
      "metadata": {
        "execution": {
          "iopub.status.busy": "2023-07-24T18:32:29.388221Z",
          "iopub.execute_input": "2023-07-24T18:32:29.388616Z",
          "iopub.status.idle": "2023-07-24T18:32:29.403153Z",
          "shell.execute_reply.started": "2023-07-24T18:32:29.388561Z",
          "shell.execute_reply": "2023-07-24T18:32:29.402042Z"
        },
        "id": "Xbcg_0SACfw3"
      }
    },
    {
      "cell_type": "code",
      "source": [
        "# Target veriable\n",
        "y = data['Unemployment rate']\n",
        "# Train data\n",
        "X = data.drop('Unemployment rate', axis=1)\n",
        "\n",
        "X_train, X_test, y_train, y_test = train_test_split(X, y, random_state = 42, test_size = 0.2)"
      ],
      "metadata": {
        "execution": {
          "iopub.status.busy": "2023-07-25T09:38:58.824489Z",
          "iopub.execute_input": "2023-07-25T09:38:58.825577Z",
          "iopub.status.idle": "2023-07-25T09:38:58.841621Z",
          "shell.execute_reply.started": "2023-07-25T09:38:58.825529Z",
          "shell.execute_reply": "2023-07-25T09:38:58.840117Z"
        },
        "trusted": true,
        "id": "Fif9qKvZCfw4"
      },
      "execution_count": null,
      "outputs": []
    },
    {
      "cell_type": "code",
      "source": [
        "# Let's look at the dimensions of the training and test samples\n",
        "print('Train:', X_train.shape)\n",
        "print('Test:', X_test.shape)"
      ],
      "metadata": {
        "execution": {
          "iopub.status.busy": "2023-07-25T09:38:58.843484Z",
          "iopub.execute_input": "2023-07-25T09:38:58.844446Z",
          "iopub.status.idle": "2023-07-25T09:38:58.851642Z",
          "shell.execute_reply.started": "2023-07-25T09:38:58.844399Z",
          "shell.execute_reply": "2023-07-25T09:38:58.850495Z"
        },
        "trusted": true,
        "id": "hNoALyDgCfw4"
      },
      "execution_count": null,
      "outputs": []
    },
    {
      "cell_type": "code",
      "source": [
        "# The function creates a dictionary with metric values\n",
        "def get_dict_metrics(y_train, y_train_predict, y_test, y_test_predict):\n",
        "    dict_metrics = {\n",
        "                'MAE score Train' : round(metrics.mean_absolute_error(y_train, y_train_predict), 2),\n",
        "                'MAE score Test' : round(metrics.mean_absolute_error(y_test, y_test_predict), 2),\n",
        "                'RMSE score Train' : round(np.sqrt(metrics.mean_squared_error(y_train, y_train_predict)), 2),\n",
        "                'RMSE score Test' : round(np.sqrt(metrics.mean_squared_error(y_test, y_test_predict)), 2),\n",
        "                'R^2 score Train' : round(metrics.r2_score(y_train, y_train_predict), 2),\n",
        "                'R^2 score Test' : round(metrics.r2_score(y_test, y_test_predict), 2)\n",
        "                }\n",
        "    return dict_metrics"
      ],
      "metadata": {
        "execution": {
          "iopub.status.busy": "2023-07-25T09:38:58.853216Z",
          "iopub.execute_input": "2023-07-25T09:38:58.85435Z",
          "iopub.status.idle": "2023-07-25T09:38:58.864473Z",
          "shell.execute_reply.started": "2023-07-25T09:38:58.854311Z",
          "shell.execute_reply": "2023-07-25T09:38:58.863637Z"
        },
        "trusted": true,
        "id": "tesLPBa1Cfw4"
      },
      "execution_count": null,
      "outputs": []
    },
    {
      "cell_type": "markdown",
      "source": [
        "## 4.1. Linear regression"
      ],
      "metadata": {
        "id": "95bZi5kDCfw4"
      }
    },
    {
      "cell_type": "code",
      "source": [
        "model_lr = linear_model.LinearRegression()\n",
        "model_lr.fit(X_train, y_train)\n",
        "y_train_predict = model_lr.predict(X_train)\n",
        "y_test_predict = model_lr.predict(X_test)\n",
        "metrics_lr = get_dict_metrics(y_train, y_train_predict, y_test, y_test_predict)\n",
        "metrics_lr\n"
      ],
      "metadata": {
        "execution": {
          "iopub.status.busy": "2023-07-25T09:38:58.865747Z",
          "iopub.execute_input": "2023-07-25T09:38:58.866262Z",
          "iopub.status.idle": "2023-07-25T09:38:58.893668Z",
          "shell.execute_reply.started": "2023-07-25T09:38:58.86623Z",
          "shell.execute_reply": "2023-07-25T09:38:58.892748Z"
        },
        "trusted": true,
        "id": "q054Ti3zCfw4"
      },
      "execution_count": null,
      "outputs": []
    },
    {
      "cell_type": "markdown",
      "source": [
        "## 4.2. Random Forest Regressor"
      ],
      "metadata": {
        "id": "6uB8xZqDCfw4"
      }
    },
    {
      "cell_type": "code",
      "source": [
        "model_rf = ensemble.RandomForestRegressor(n_estimators=100,\n",
        "                                         max_depth=10,\n",
        "                                         random_state=42)\n",
        "model_rf.fit(X_train, y_train)\n",
        "y_train_predict = model_rf.predict(X_train)\n",
        "y_test_predict = model_rf.predict(X_test)\n",
        "metrics_rf = get_dict_metrics(y_train, y_train_predict, y_test, y_test_predict)\n",
        "metrics_rf"
      ],
      "metadata": {
        "execution": {
          "iopub.status.busy": "2023-07-25T09:38:58.894845Z",
          "iopub.execute_input": "2023-07-25T09:38:58.895727Z",
          "iopub.status.idle": "2023-07-25T09:38:59.24986Z",
          "shell.execute_reply.started": "2023-07-25T09:38:58.895683Z",
          "shell.execute_reply": "2023-07-25T09:38:59.248637Z"
        },
        "trusted": true,
        "id": "syZVIIg4Cfw4"
      },
      "execution_count": null,
      "outputs": []
    },
    {
      "cell_type": "code",
      "source": [
        "plt.rcParams['figure.figsize'] = (6, 6)\n",
        "feat_importances = pd.Series(model_rf.feature_importances_, index=X.columns)\n",
        "feat_importances.nlargest(10).plot(kind='barh')\n",
        "plt.show()"
      ],
      "metadata": {
        "execution": {
          "iopub.status.busy": "2023-07-25T09:38:59.25103Z",
          "iopub.execute_input": "2023-07-25T09:38:59.251398Z",
          "iopub.status.idle": "2023-07-25T09:38:59.530908Z",
          "shell.execute_reply.started": "2023-07-25T09:38:59.251352Z",
          "shell.execute_reply": "2023-07-25T09:38:59.529613Z"
        },
        "trusted": true,
        "id": "r54ujDXjCfw4"
      },
      "execution_count": null,
      "outputs": []
    },
    {
      "cell_type": "markdown",
      "source": [
        "### Hyperparameters tuning with gridsearch"
      ],
      "metadata": {
        "id": "5A34jo6ICfw4"
      }
    },
    {
      "cell_type": "code",
      "source": [
        "# Hyperparameter grid\n",
        "param_grid = {'n_estimators' : [50, 100, 150, 200, 300], # Number of trees\n",
        "              'min_samples_split': [2, 5, 7, 10], # Minimum number of samples to split\n",
        "              'max_depth': [5, 10, 20, 30, 50], # Maximum tree depth\n",
        "              'min_samples_leaf' : [1, 2, 3, 4], # Minimum number of objects in a sheet\n",
        "              'max_features' : ['sqrt', 'log2'] # Maximum number of features that will be used by each of the trees\n",
        "              }\n",
        "# Create an object gridsearch\n",
        "grid_search = GridSearchCV(\n",
        "    estimator=ensemble.RandomForestRegressor(random_state=42),\n",
        "    param_grid=param_grid,\n",
        "    cv=5,\n",
        "    n_jobs=-1)\n",
        "\n",
        "# Model traning\n",
        "%time grid_search.fit(X_train, y_train)\n",
        "# Best Hyperparameter Values\n",
        "print('Best Hyperparameter Values:', grid_search.best_params_)\n",
        "print()\n",
        "# Prediction and metrics\n",
        "y_train_predict = grid_search.predict(X_train)\n",
        "y_test_predict = grid_search.predict(X_test)\n",
        "metrics_rf_grid = get_dict_metrics(y_train, y_train_predict, y_test, y_test_predict)\n",
        "metrics_rf_grid\n"
      ],
      "metadata": {
        "execution": {
          "iopub.status.busy": "2023-07-25T09:38:59.53241Z",
          "iopub.execute_input": "2023-07-25T09:38:59.532745Z",
          "iopub.status.idle": "2023-07-25T09:46:28.803628Z",
          "shell.execute_reply.started": "2023-07-25T09:38:59.532717Z",
          "shell.execute_reply": "2023-07-25T09:46:28.802167Z"
        },
        "trusted": true,
        "id": "I-uhFmynCfw4"
      },
      "execution_count": null,
      "outputs": []
    },
    {
      "cell_type": "code",
      "source": [
        "plt.rcParams['figure.figsize'] = (6, 6)\n",
        "feat_importances = pd.Series(model_rf.feature_importances_, index=X.columns)\n",
        "feat_importances.nlargest(10).plot(kind='barh')\n",
        "plt.show()"
      ],
      "metadata": {
        "execution": {
          "iopub.status.busy": "2023-07-25T09:46:28.805466Z",
          "iopub.execute_input": "2023-07-25T09:46:28.805829Z",
          "iopub.status.idle": "2023-07-25T09:46:29.085961Z",
          "shell.execute_reply.started": "2023-07-25T09:46:28.805788Z",
          "shell.execute_reply": "2023-07-25T09:46:29.085148Z"
        },
        "trusted": true,
        "id": "ofVwGGEHCfw4"
      },
      "execution_count": null,
      "outputs": []
    },
    {
      "cell_type": "markdown",
      "source": [
        "## 4.3. Gradient boosting"
      ],
      "metadata": {
        "id": "ITGPGZuwCfw4"
      }
    },
    {
      "cell_type": "code",
      "source": [
        "# Create a Gradient Boosting regressor object\n",
        "model_gbr = ensemble.GradientBoostingRegressor(random_state=42)\n",
        "# Model traning\n",
        "%time model_gbr.fit(X_train, y_train)\n",
        "# Prediction and metrics\n",
        "y_train_predict = model_gbr.predict(X_train)\n",
        "y_test_predict = model_gbr.predict(X_test)\n",
        "metrics_gbr = get_dict_metrics(y_train, y_train_predict, y_test, y_test_predict)\n",
        "metrics_gbr"
      ],
      "metadata": {
        "execution": {
          "iopub.status.busy": "2023-07-25T09:46:29.087371Z",
          "iopub.execute_input": "2023-07-25T09:46:29.087963Z",
          "iopub.status.idle": "2023-07-25T09:46:29.27088Z",
          "shell.execute_reply.started": "2023-07-25T09:46:29.087928Z",
          "shell.execute_reply": "2023-07-25T09:46:29.269647Z"
        },
        "trusted": true,
        "id": "iWTPkDMJCfw4"
      },
      "execution_count": null,
      "outputs": []
    },
    {
      "cell_type": "markdown",
      "source": [
        "### Hyperparameters tuning with gridsearch"
      ],
      "metadata": {
        "id": "nXulIJaqCfw4"
      }
    },
    {
      "cell_type": "code",
      "source": [
        "# Hyperparameter grid\n",
        "param_grid = {'n_estimators' : [100, 200, 300, 400, 500], # Number of trees\n",
        "              'min_samples_split': [2, 5, 7, 10], # Minimum number of samples to split\n",
        "              'max_depth': [2, 3, 4, 5, 6, 7, 8], # Maximum tree depth\n",
        "              'min_samples_leaf' : [1, 2, 3, 4], # Minimum number of objects in a sheet\n",
        "              'max_features' : ['sqrt', 'log2'], # Maximum number of features that will be used by each of the trees\n",
        "              'learning_rate' : [0,1, 0.3, 0.5, 0.7] # Pace of learning\n",
        "              }\n",
        "# Create an object gridsearch\n",
        "grid_search = GridSearchCV(\n",
        "    estimator=ensemble.GradientBoostingRegressor(random_state=42),\n",
        "    param_grid=param_grid,\n",
        "    cv=5,\n",
        "    n_jobs=-1)\n",
        "\n",
        "# Model traning\n",
        "%time grid_search.fit(X_train, y_train)\n",
        "\n"
      ],
      "metadata": {
        "execution": {
          "iopub.status.busy": "2023-07-25T09:46:29.272511Z",
          "iopub.execute_input": "2023-07-25T09:46:29.27338Z",
          "iopub.status.idle": "2023-07-25T10:17:42.253256Z",
          "shell.execute_reply.started": "2023-07-25T09:46:29.273336Z",
          "shell.execute_reply": "2023-07-25T10:17:42.252045Z"
        },
        "trusted": true,
        "id": "xZDpSjX8Cfw4"
      },
      "execution_count": null,
      "outputs": []
    },
    {
      "cell_type": "code",
      "source": [
        "# Best Hyperparameter Values\n",
        "print('Best Hyperparameter Values:', grid_search.best_params_)\n",
        "print()\n",
        "# # Prediction and metrics\n",
        "y_train_predict = grid_search.predict(X_train)\n",
        "y_test_predict = grid_search.predict(X_test)\n",
        "metrics_gbr_grid = get_dict_metrics(y_train, y_train_predict, y_test, y_test_predict)\n",
        "metrics_gbr_grid"
      ],
      "metadata": {
        "execution": {
          "iopub.status.busy": "2023-07-25T10:17:42.254932Z",
          "iopub.execute_input": "2023-07-25T10:17:42.25543Z",
          "iopub.status.idle": "2023-07-25T10:17:42.275752Z",
          "shell.execute_reply.started": "2023-07-25T10:17:42.255389Z",
          "shell.execute_reply": "2023-07-25T10:17:42.274449Z"
        },
        "trusted": true,
        "id": "RQoVCvONCfw4"
      },
      "execution_count": null,
      "outputs": []
    },
    {
      "cell_type": "code",
      "source": [
        "lr = pd.Series(metrics_lr)\n",
        "rf = pd.Series(metrics_rf)\n",
        "rf_grid = pd.Series(metrics_rf_grid)\n",
        "gbr = pd.Series(metrics_gbr)\n",
        "gbr_grid = pd.Series(metrics_gbr_grid)\n",
        "\n",
        "metrics_df = pd.concat([lr, rf, rf_grid, gbr, gbr_grid], axis=1).reset_index().rename(columns={\n",
        "    'index' : 'Metric',\n",
        "    0 : 'Linear regression',\n",
        "    1 : 'Random forest',\n",
        "    2 : 'Random forest grid',\n",
        "    3 : 'Gradient boosting',\n",
        "    4 : 'Gradient boosting grid'\n",
        "})\n",
        "metrics_df"
      ],
      "metadata": {
        "execution": {
          "iopub.status.busy": "2023-07-25T10:17:42.277278Z",
          "iopub.execute_input": "2023-07-25T10:17:42.2776Z",
          "iopub.status.idle": "2023-07-25T10:17:42.299143Z",
          "shell.execute_reply.started": "2023-07-25T10:17:42.277561Z",
          "shell.execute_reply": "2023-07-25T10:17:42.298121Z"
        },
        "trusted": true,
        "id": "CHcm3O1gCfw5"
      },
      "execution_count": null,
      "outputs": []
    },
    {
      "cell_type": "markdown",
      "source": [
        "##"
      ],
      "metadata": {
        "id": "dxE5P1fXCfw5"
      }
    }
  ]
}